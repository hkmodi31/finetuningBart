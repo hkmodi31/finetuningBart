{
 "cells": [
  {
   "cell_type": "markdown",
   "metadata": {},
   "source": [
    "## Installing the required libraries"
   ]
  },
  {
   "cell_type": "code",
   "execution_count": 2,
   "metadata": {},
   "outputs": [],
   "source": [
    "#Installing required libraries\n",
    "# %pip install transformers datasets evaluate accelerate matplotlib absl-py rouge_score --quiet\n",
    "# %pip install --pre torch torchvision torchaudio --index-url https://download.pytorch.org/whl/nightly/cpu"
   ]
  },
  {
   "cell_type": "markdown",
   "metadata": {},
   "source": [
    "## Importing required libraries and functions"
   ]
  },
  {
   "cell_type": "code",
   "execution_count": 3,
   "metadata": {},
   "outputs": [
    {
     "name": "stderr",
     "output_type": "stream",
     "text": [
      "/opt/homebrew/anaconda3/envs/NLP/lib/python3.12/site-packages/tqdm/auto.py:21: TqdmWarning: IProgress not found. Please update jupyter and ipywidgets. See https://ipywidgets.readthedocs.io/en/stable/user_install.html\n",
      "  from .autonotebook import tqdm as notebook_tqdm\n"
     ]
    }
   ],
   "source": [
    "from datasets import load_dataset, load_metric\n",
    "import pandas as pd\n",
    "import matplotlib.pyplot as plt\n",
    "import evaluate\n",
    "from transformers import pipeline, Seq2SeqTrainingArguments, Seq2SeqTrainer, AutoTokenizer, AutoModelForSeq2SeqLM, DataCollatorForSeq2Seq\n",
    "\n",
    "from transformers import logging\n",
    "import warnings\n",
    "warnings.filterwarnings(\"ignore\")\n",
    "logging.set_verbosity_warning()\n",
    "\n",
    "rouge = evaluate.load('rouge')\n",
    "\n",
    "plt.rcParams['figure.figsize'] = [20, 6]"
   ]
  },
  {
   "cell_type": "markdown",
   "metadata": {},
   "source": [
    "## Loading SAMSum dataset"
   ]
  },
  {
   "cell_type": "code",
   "execution_count": 4,
   "metadata": {},
   "outputs": [],
   "source": [
    "df = load_dataset(\"samsum\")"
   ]
  },
  {
   "cell_type": "markdown",
   "metadata": {},
   "source": [
    "## Checking for null values"
   ]
  },
  {
   "cell_type": "code",
   "execution_count": 5,
   "metadata": {},
   "outputs": [
    {
     "name": "stdout",
     "output_type": "stream",
     "text": [
      "<class 'pandas.core.frame.DataFrame'>\n",
      "RangeIndex: 14732 entries, 0 to 14731\n",
      "Data columns (total 3 columns):\n",
      " #   Column    Non-Null Count  Dtype \n",
      "---  ------    --------------  ----- \n",
      " 0   id        14732 non-null  object\n",
      " 1   dialogue  14732 non-null  object\n",
      " 2   summary   14732 non-null  object\n",
      "dtypes: object(3)\n",
      "memory usage: 345.4+ KB\n"
     ]
    }
   ],
   "source": [
    "train_df = pd.DataFrame(df['train'])\n",
    "train_df.info()"
   ]
  },
  {
   "cell_type": "markdown",
   "metadata": {},
   "source": [
    "## Checking sample input/output"
   ]
  },
  {
   "cell_type": "code",
   "execution_count": 6,
   "metadata": {},
   "outputs": [
    {
     "name": "stdout",
     "output_type": "stream",
     "text": [
      "Input text: \n",
      "Amanda: I baked  cookies. Do you want some?\n",
      "Jerry: Sure!\n",
      "Amanda: I'll bring you tomorrow :-)\n",
      "-------------------------\n",
      "Output text: \n",
      "Amanda baked cookies and will bring Jerry some tomorrow.\n"
     ]
    }
   ],
   "source": [
    "print(f\"Input text: \\n{train_df.iloc[0]['dialogue']}\")\n",
    "print(\"-------------------------\")\n",
    "print(f\"Output text: \\n{train_df.iloc[0]['summary']}\")"
   ]
  },
  {
   "cell_type": "markdown",
   "metadata": {},
   "source": [
    "## Creating dataframe to see input size vs output (summary) size"
   ]
  },
  {
   "cell_type": "code",
   "execution_count": 7,
   "metadata": {},
   "outputs": [],
   "source": [
    "trainDist = pd.DataFrame()\n",
    "\n",
    "dialogueLen = []\n",
    "summaryLen = []\n",
    "for row in range(len(train_df['dialogue'])):\n",
    "    dialogueLen.append(len(train_df.iloc[row]['dialogue']))\n",
    "    summaryLen.append(len(train_df.iloc[row]['summary']))\n",
    "\n",
    "trainDist['rawLength'] = dialogueLen\n",
    "trainDist['summaryLength'] = summaryLen"
   ]
  },
  {
   "cell_type": "code",
   "execution_count": 8,
   "metadata": {
    "tags": []
   },
   "outputs": [],
   "source": [
    "trainDist = trainDist[trainDist['rawLength']>0]"
   ]
  },
  {
   "cell_type": "code",
   "execution_count": 9,
   "metadata": {
    "tags": []
   },
   "outputs": [
    {
     "name": "stdout",
     "output_type": "stream",
     "text": [
      "Mean ratio of summary to dialogue: 0.290316633016083\n"
     ]
    }
   ],
   "source": [
    "trainDist['lenRatio'] = trainDist['summaryLength']/trainDist['rawLength']\n",
    "print(f\"Mean ratio of summary to dialogue: {trainDist['lenRatio'].mean()}\")"
   ]
  },
  {
   "cell_type": "code",
   "execution_count": 10,
   "metadata": {},
   "outputs": [
    {
     "data": {
      "text/html": [
       "<div>\n",
       "<style scoped>\n",
       "    .dataframe tbody tr th:only-of-type {\n",
       "        vertical-align: middle;\n",
       "    }\n",
       "\n",
       "    .dataframe tbody tr th {\n",
       "        vertical-align: top;\n",
       "    }\n",
       "\n",
       "    .dataframe thead th {\n",
       "        text-align: right;\n",
       "    }\n",
       "</style>\n",
       "<table border=\"1\" class=\"dataframe\">\n",
       "  <thead>\n",
       "    <tr style=\"text-align: right;\">\n",
       "      <th></th>\n",
       "      <th>rawLength</th>\n",
       "      <th>summaryLength</th>\n",
       "      <th>lenRatio</th>\n",
       "    </tr>\n",
       "  </thead>\n",
       "  <tbody>\n",
       "    <tr>\n",
       "      <th>0</th>\n",
       "      <td>94</td>\n",
       "      <td>56</td>\n",
       "      <td>0.595745</td>\n",
       "    </tr>\n",
       "    <tr>\n",
       "      <th>1</th>\n",
       "      <td>111</td>\n",
       "      <td>61</td>\n",
       "      <td>0.549550</td>\n",
       "    </tr>\n",
       "    <tr>\n",
       "      <th>2</th>\n",
       "      <td>528</td>\n",
       "      <td>77</td>\n",
       "      <td>0.145833</td>\n",
       "    </tr>\n",
       "    <tr>\n",
       "      <th>3</th>\n",
       "      <td>155</td>\n",
       "      <td>97</td>\n",
       "      <td>0.625806</td>\n",
       "    </tr>\n",
       "    <tr>\n",
       "      <th>4</th>\n",
       "      <td>909</td>\n",
       "      <td>145</td>\n",
       "      <td>0.159516</td>\n",
       "    </tr>\n",
       "  </tbody>\n",
       "</table>\n",
       "</div>"
      ],
      "text/plain": [
       "   rawLength  summaryLength  lenRatio\n",
       "0         94             56  0.595745\n",
       "1        111             61  0.549550\n",
       "2        528             77  0.145833\n",
       "3        155             97  0.625806\n",
       "4        909            145  0.159516"
      ]
     },
     "execution_count": 10,
     "metadata": {},
     "output_type": "execute_result"
    }
   ],
   "source": [
    "trainDist.head()"
   ]
  },
  {
   "cell_type": "code",
   "execution_count": 11,
   "metadata": {
    "tags": []
   },
   "outputs": [
    {
     "data": {
      "text/plain": [
       "[<matplotlib.lines.Line2D at 0x2a07f0560>,\n",
       " <matplotlib.lines.Line2D at 0x2a07c3380>,\n",
       " <matplotlib.lines.Line2D at 0x2a07c3260>]"
      ]
     },
     "execution_count": 11,
     "metadata": {},
     "output_type": "execute_result"
    },
    {
     "data": {
      "image/png": "[encoded data removed]",
      "text/plain": [
       "<Figure size 2000x600 with 1 Axes>"
      ]
     },
     "metadata": {},
     "output_type": "display_data"
    }
   ],
   "source": [
    "plt.plot(trainDist)"
   ]
  },
  {
   "cell_type": "code",
   "execution_count": 12,
   "metadata": {
    "tags": []
   },
   "outputs": [
    {
     "data": {
      "image/png": "[encoded data removed]",
      "text/plain": [
       "<Figure size 1400x600 with 2 Axes>"
      ]
     },
     "metadata": {},
     "output_type": "display_data"
    }
   ],
   "source": [
    "plt.figure(figsize=(14, 6))\n",
    "\n",
    "plt.subplot(1, 2, 1)\n",
    "plt.hist(dialogueLen, bins=50, color='skyblue', edgecolor='black')\n",
    "plt.title('Dialogue Length Distribution')\n",
    "plt.xlabel('Length (words)')\n",
    "plt.ylabel('Frequency')\n",
    "\n",
    "# Plotting the length distribution of summaries\n",
    "plt.subplot(1, 2, 2)\n",
    "plt.hist(summaryLen, bins=50, color='salmon', edgecolor='black')\n",
    "plt.title('Summary Length Distribution')\n",
    "plt.xlabel('Length (words)')\n",
    "plt.ylabel('Frequency')\n",
    "\n",
    "plt.tight_layout()\n",
    "plt.show()"
   ]
  },
  {
   "cell_type": "markdown",
   "metadata": {},
   "source": [
    "Inference - \n",
    "We can see that the summaries do lie in a certain range of length, showcasing that there must a limit set for maximum length of a summary. From the input data, we can see that there are certain input conversations that are very long, and the set limit of summary might not capture the whole conversation."
   ]
  },
  {
   "cell_type": "markdown",
   "metadata": {},
   "source": [
    "## Trying pre-trained models to check outputs on sample input"
   ]
  },
  {
   "cell_type": "code",
   "execution_count": 12,
   "metadata": {},
   "outputs": [],
   "source": [
    "dfResults = pd.DataFrame()"
   ]
  },
  {
   "cell_type": "code",
   "execution_count": 13,
   "metadata": {},
   "outputs": [
    {
     "name": "stdout",
     "output_type": "stream",
     "text": [
      "Anna: I am gonna kill Tom today.\n",
      "Lisa: What happened?\n",
      "Anna: Can you imagine that he hasn't changed the baby's diaper for the whole day?\n",
      "Lisa: Dear lord, no.\n",
      "Anna: Yes. the smell, the view when I finally changed Stevie - priceless\n",
      "Lisa: Did you say something?\n",
      "Anna: Yes, I said: Are you fucking kidding me? Are you a complete idiot?\n",
      "Lisa: And...?\n",
      "Anna: He said that a little pee never hurt anybody and that I'm overreacting\n",
      "Lisa: Typical. Has he ever admitted that he screwed up?\n",
      "Anna: I honestly can't remember the last time he apologized to me. And it's getting really tiring, you know.\n",
      "Lisa: I know, would you like Sam to talk to him? You know I can stir him into the right direction, he could really make him think\n",
      "Anna: I don't know... He's only gonna get mad.\n",
      "Lisa: At Sam?\n",
      "Anna: At me.\n",
      "Lisa: Oh, I see. Maybe you should try to talk to him, but like serious for once, not just in regards to you know, some one thing he messed up, but his general attitude.\n",
      "Anna: I know I should, but I am just so tired all the time, I get mad and then I just let it go.\n",
      "Lisa: What do you say we leave Stevie with your sister and go to a SPA for a day during the weekend? A nice massage and a facial? Could only do you good.\n",
      "Anna: That would be absolutely fantastic.\n",
      "Lisa: I will call the Dream SPA later today. Cheer up. It will all be okay.\n",
      "Anna: I love you <3 Thanks!!\n",
      "\n",
      "-----------------------------------\n",
      "\n",
      "Anna is angry as Tom hasn't changed Stevie's diaper for the whole day. Lisa thinks Anna should talk to Tom about his general attitude. Lisa and Anna want to go to a Spa for a day at the weekend. Lisa suggests leaving Stevie with Anna's sister. Lisa will call the Dream Spa today. \n"
     ]
    }
   ],
   "source": [
    "sample_input = train_df.iloc[696]['dialogue']\n",
    "sample_output = train_df.iloc[696]['summary']\n",
    "\n",
    "print(sample_input)\n",
    "print(\"\\n-----------------------------------\\n\")\n",
    "print(sample_output)"
   ]
  },
  {
   "cell_type": "markdown",
   "metadata": {},
   "source": [
    "## Falcon Text Summarization Model\n",
    "https://huggingface.co/Falconsai/text_summarization\n",
    "\n",
    "Model Card: Fine-Tuned T5 Small for Text Summarization\n",
    "Model Description\n",
    "The Fine-Tuned T5 Small is a variant of the T5 transformer model, designed for the task of text summarization. It is adapted and fine-tuned to generate concise and coherent summaries of input text.\n",
    "\n",
    "The model, named \"t5-small,\" is pre-trained on a diverse corpus of text data, enabling it to capture essential information and generate meaningful summaries. Fine-tuning is conducted with careful attention to hyperparameter settings, including batch size and learning rate, to ensure optimal performance for text summarization.\n",
    "\n",
    "During the fine-tuning process, a batch size of 8 is chosen for efficient computation and learning. Additionally, a learning rate of 2e-5 is selected to balance convergence speed and model optimization. This approach guarantees not only rapid learning but also continuous refinement during training.\n",
    "\n",
    "The fine-tuning dataset consists of a variety of documents and their corresponding human-generated summaries. This diverse dataset allows the model to learn the art of creating summaries that capture the most important information while maintaining coherence and fluency.\n",
    "\n",
    "The goal of this meticulous training process is to equip the model with the ability to generate high-quality text summaries, making it valuable for a wide range of applications involving document summarization and content condensation.\n",
    "\n",
    "Intended Uses & Limitations\n",
    "Intended Uses\n",
    "Text Summarization: The primary intended use of this model is to generate concise and coherent text summaries. It is well-suited for applications that involve summarizing lengthy documents, news articles, and textual content."
   ]
  },
  {
   "cell_type": "code",
   "execution_count": 14,
   "metadata": {},
   "outputs": [],
   "source": [
    "FalconAIModel = pipeline(task='summarization', model='Falconsai/text_summarization')\n",
    "FAIsummary = FalconAIModel(sample_input, max_length=300)"
   ]
  },
  {
   "cell_type": "code",
   "execution_count": 15,
   "metadata": {},
   "outputs": [
    {
     "name": "stdout",
     "output_type": "stream",
     "text": [
      "Reference output: Anna is angry as Tom hasn't changed Stevie's diaper for the whole day. Lisa thinks Anna should talk to Tom about his general attitude. Lisa and Anna want to go to a Spa for a day at the weekend. Lisa suggests leaving Stevie with Anna's sister. Lisa will call the Dream Spa today. \n",
      "\n",
      "Predicted output of model: Anna: Yes, I said: Are you fucking kidding me? Anna: I honestly can't remember the last time he apologized to me . Anna: You know I can stir him into the right direction, but like serious for once, some one thing he messed up, but his general attitude . I know I should, but I am just so tired all the time, I get mad and then I just let it go .\n"
     ]
    }
   ],
   "source": [
    "print(f\"Reference output: {sample_output}\\n\")\n",
    "print(f\"Predicted output of model: {FAIsummary[0]['summary_text']}\")"
   ]
  },
  {
   "cell_type": "code",
   "execution_count": 16,
   "metadata": {},
   "outputs": [
    {
     "data": {
      "text/plain": [
       "{'rouge1': 0.23622047244094488,\n",
       " 'rouge2': 0.032,\n",
       " 'rougeL': 0.14173228346456693,\n",
       " 'rougeLsum': 0.14173228346456693}"
      ]
     },
     "execution_count": 16,
     "metadata": {},
     "output_type": "execute_result"
    }
   ],
   "source": [
    "#Checking rogue scores for falconAI-model\n",
    "rouge.compute(predictions=[FAIsummary[0]['summary_text']], references=[sample_output])"
   ]
  },
  {
   "cell_type": "markdown",
   "metadata": {},
   "source": [
    "## Google's t5-large model\n",
    "https://huggingface.co/google/flan-t5-large#model-card-for-flan-t5-large"
   ]
  },
  {
   "cell_type": "code",
   "execution_count": 17,
   "metadata": {},
   "outputs": [],
   "source": [
    "t5Model = pipeline(task='summarization', model='google/flan-t5-large')\n",
    "t5summary = t5Model(sample_input, max_length=300)"
   ]
  },
  {
   "cell_type": "code",
   "execution_count": 18,
   "metadata": {},
   "outputs": [
    {
     "name": "stdout",
     "output_type": "stream",
     "text": [
      "Reference output: Anna is angry as Tom hasn't changed Stevie's diaper for the whole day. Lisa thinks Anna should talk to Tom about his general attitude. Lisa and Anna want to go to a Spa for a day at the weekend. Lisa suggests leaving Stevie with Anna's sister. Lisa will call the Dream Spa today. \n",
      "\n",
      "Predicted output of model: Anna is angry with Tom because he didn't change the baby's diaper for the whole day. Lisa will call the Dream SPA later today to book a massage and a facial for Anna.\n"
     ]
    }
   ],
   "source": [
    "print(f\"Reference output: {sample_output}\\n\")\n",
    "print(f\"Predicted output of model: {t5summary[0]['summary_text']}\")"
   ]
  },
  {
   "cell_type": "code",
   "execution_count": 19,
   "metadata": {},
   "outputs": [
    {
     "data": {
      "text/plain": [
       "{'rouge1': 0.5714285714285714,\n",
       " 'rouge2': 0.29213483146067415,\n",
       " 'rougeL': 0.3956043956043956,\n",
       " 'rougeLsum': 0.3956043956043956}"
      ]
     },
     "execution_count": 19,
     "metadata": {},
     "output_type": "execute_result"
    }
   ],
   "source": [
    "rouge.compute(predictions=[t5summary[0]['summary_text']], references=[sample_output])"
   ]
  },
  {
   "cell_type": "markdown",
   "metadata": {},
   "source": [
    "## Facebook's Bart-Large-CNN\n",
    "https://huggingface.co/facebook/bart-large-cnn\n",
    "\n",
    "BART (large-sized model), fine-tuned on CNN Daily Mail\n",
    "BART model pre-trained on English language, and fine-tuned on CNN Daily Mail. It was introduced in the paper BART: Denoising Sequence-to-Sequence Pre-training for Natural Language Generation, Translation, and Comprehension by Lewis et al. and first released in [this repository (https://github.com/pytorch/fairseq/tree/master/examples/bart).\n",
    "\n",
    "Disclaimer: The team releasing BART did not write a model card for this model so this model card has been written by the Hugging Face team.\n",
    "\n",
    "Model description\n",
    "BART is a transformer encoder-encoder (seq2seq) model with a bidirectional (BERT-like) encoder and an autoregressive (GPT-like) decoder. BART is pre-trained by (1) corrupting text with an arbitrary noising function, and (2) learning a model to reconstruct the original text.\n",
    "\n",
    "BART is particularly effective when fine-tuned for text generation (e.g. summarization, translation) but also works well for comprehension tasks (e.g. text classification, question answering). This particular checkpoint has been fine-tuned on CNN Daily Mail, a large collection of text-summary pairs.\n"
   ]
  },
  {
   "cell_type": "code",
   "execution_count": 20,
   "metadata": {},
   "outputs": [],
   "source": [
    "bartModel = pipeline(task='summarization', model='facebook/bart-large-cnn')\n",
    "bartSummary = bartModel(sample_input, max_length=300)"
   ]
  },
  {
   "cell_type": "code",
   "execution_count": 21,
   "metadata": {
    "tags": []
   },
   "outputs": [
    {
     "name": "stdout",
     "output_type": "stream",
     "text": [
      "Reference output: Anna is angry as Tom hasn't changed Stevie's diaper for the whole day. Lisa thinks Anna should talk to Tom about his general attitude. Lisa and Anna want to go to a Spa for a day at the weekend. Lisa suggests leaving Stevie with Anna's sister. Lisa will call the Dream Spa today. \n",
      "\n",
      "Predicted output of model: Anna: I honestly can't remember the last time he apologized to me. Sam: Maybe you should try to talk to him, but like serious for once, not just in regards to some one thing he messed up. Anna: I am just so tired all the time, I get mad and then I just let it go.\n"
     ]
    }
   ],
   "source": [
    "print(f\"Reference output: {sample_output}\\n\")\n",
    "print(f\"Predicted output of model: {bartSummary[0]['summary_text']}\")"
   ]
  },
  {
   "cell_type": "code",
   "execution_count": 22,
   "metadata": {},
   "outputs": [
    {
     "data": {
      "text/plain": [
       "{'rouge1': 0.23008849557522124,\n",
       " 'rouge2': 0.018018018018018014,\n",
       " 'rougeL': 0.1592920353982301,\n",
       " 'rougeLsum': 0.1592920353982301}"
      ]
     },
     "execution_count": 22,
     "metadata": {},
     "output_type": "execute_result"
    }
   ],
   "source": [
    "rouge.compute(predictions=[bartSummary[0]['summary_text']], references=[sample_output])"
   ]
  },
  {
   "cell_type": "markdown",
   "metadata": {},
   "source": [
    "## Fine-tuning facebook's bart-large-cnn"
   ]
  },
  {
   "cell_type": "code",
   "execution_count": 23,
   "metadata": {},
   "outputs": [],
   "source": [
    "# import torch\n",
    "# torch.cuda.get_device_properties(0)\n",
    "\n",
    "# max_input = 512\n",
    "# max_target = 128\n",
    "# batch_size = 3\n",
    "\n",
    "\n",
    "# model_checkpoints = \"facebook/bart-large-xsum\"\n",
    "# data = load_dataset(\"samsum\")\n",
    "\n",
    "# tokenizer = AutoTokenizer.from_pretrained(model_checkpoints)\n",
    "# compute_rouge = load_metric(\"rouge\")"
   ]
  },
  {
   "cell_type": "code",
   "execution_count": 24,
   "metadata": {
    "tags": []
   },
   "outputs": [],
   "source": [
    "# def data_preprocess(processData):\n",
    "#   #get all the dialogues\n",
    "#   inputs = [dialogue for dialogue in processData['dialogue']]\n",
    "#   #tokenize the dialogues\n",
    "#   model_inputs = tokenizer(inputs,  max_length=max_input, padding='max_length', truncation=True)\n",
    "#   with tokenizer.as_target_tokenizer():\n",
    "#     targets = tokenizer(processData['summary'], max_length=max_target, padding='max_length', truncation=True)\n",
    "    \n",
    "#   #set labels\n",
    "#   model_inputs['labels'] = targets['input_ids']\n",
    "#   #return the tokenized data\n",
    "#   #input_ids, attention_mask and labels\n",
    "#   return model_inputs\n",
    "\n",
    "# tokenized_data = data.map(data_preprocess, batched=True)\n",
    "# model = AutoModelForSeq2SeqLM.from_pretrained(model_checkpoints)\n",
    "# collator = DataCollatorForSeq2Seq(tokenizer, model=model)"
   ]
  },
  {
   "cell_type": "code",
   "execution_count": 25,
   "metadata": {
    "tags": []
   },
   "outputs": [],
   "source": [
    "# args = Seq2SeqTrainingArguments(\n",
    "#     'conversation-summ', #save directory\n",
    "#     overwrite_output_dir=True,\n",
    "#     evaluation_strategy='epoch',\n",
    "#     learning_rate=2e-5,\n",
    "#     per_device_train_batch_size=1,\n",
    "#     per_device_eval_batch_size= 1,\n",
    "#     gradient_accumulation_steps=16,\n",
    "#     weight_decay=0.01,\n",
    "#     save_total_limit=1,\n",
    "#     save_only_model = True,\n",
    "#     num_train_epochs=3,\n",
    "#     predict_with_generate=True,\n",
    "#     eval_accumulation_steps=1,\n",
    "#     fp16=True #available only with CUDA\n",
    "#     )\n",
    "\n",
    "# trainer = Seq2SeqTrainer(\n",
    "#     model, \n",
    "#     args,\n",
    "#     train_dataset=tokenized_data['train'],\n",
    "#     eval_dataset=tokenized_data['validation'],\n",
    "#     data_collator=collator,\n",
    "#     tokenizer=tokenizer,\n",
    "# )"
   ]
  },
  {
   "cell_type": "code",
   "execution_count": 26,
   "metadata": {
    "tags": []
   },
   "outputs": [],
   "source": [
    "# trainer.train()"
   ]
  },
  {
   "cell_type": "code",
   "execution_count": 27,
   "metadata": {
    "tags": []
   },
   "outputs": [],
   "source": [
    "# conversation = \"\"\"\n",
    "# Rann: Hey Harry, how have you been? Long time no see!\n",
    "# Harry: Hey! What a surprise! \n",
    "# Harry: Yes, you are right, we haven’t seen each other in a long time. How have you been?\n",
    "# Rann: There is an important campaign next week which is keeping me busy otherwise rest is going good in my life. \n",
    "# Rann: How about you?\n",
    "# Harry: Oh! I just finished a meeting with a very important client of mine and now I finally have some free time. I feel relieved that I’m done with it.\n",
    "# Rann: Good for you then. Hey! Let’s make a plan and catch up with each other after next week. \n",
    "# Rann: What do you say?\n",
    "# Harry: Sure, why not? Give me a call when you are done with your project.\n",
    "# Rann: Sure, then. \n",
    "# Rann: Bye, take care.\n",
    "# Harry: Bye buddy.\n",
    "# \"\"\"\n",
    "# #tokenize the conversation\n",
    "# model_inputs = tokenizer(conversation,  max_length=max_input, padding='max_length', truncation=True)\n",
    "# #make prediction\n",
    "# raw_pred, _, _ = trainer.predict([model_inputs])\n",
    "# #decode the output\n",
    "# print(tokenizer.decode(raw_pred[0]))\n",
    "\n",
    "# trainer.save_model(\"./finetunedModel\")"
   ]
  },
  {
   "cell_type": "markdown",
   "metadata": {},
   "source": [
    "## Testing Fine-Tuned Model"
   ]
  },
  {
   "cell_type": "code",
   "execution_count": 41,
   "metadata": {},
   "outputs": [],
   "source": [
    "modelCheckpoints = \"finetunedModel/\"\n",
    "fineTunedSummarizer = pipeline(\"summarization\", model=modelCheckpoints)"
   ]
  },
  {
   "cell_type": "code",
   "execution_count": 42,
   "metadata": {},
   "outputs": [],
   "source": [
    "fineTunedSummary = fineTunedSummarizer(sample_input, max_length=300)"
   ]
  },
  {
   "cell_type": "code",
   "execution_count": 43,
   "metadata": {},
   "outputs": [
    {
     "name": "stdout",
     "output_type": "stream",
     "text": [
      "Reference output: Anna is angry as Tom hasn't changed Stevie's diaper for the whole day. Lisa thinks Anna should talk to Tom about his general attitude. Lisa and Anna want to go to a Spa for a day at the weekend. Lisa suggests leaving Stevie with Anna's sister. Lisa will call the Dream Spa today. \n",
      "\n",
      "Predicted output of model: Tom hasn't changed Stevie's diaper for the whole day. Anna is mad at him. Lisa will call the Dream Spa later today. Lisa and Anna will leave Stevie with Anna's sister and go there for a day during the weekend.\n"
     ]
    }
   ],
   "source": [
    "print(f\"Reference output: {sample_output}\\n\")\n",
    "print(f\"Predicted output of model: {fineTunedSummary[0]['summary_text']}\")"
   ]
  },
  {
   "cell_type": "code",
   "execution_count": 44,
   "metadata": {},
   "outputs": [
    {
     "data": {
      "text/plain": [
       "{'rouge1': 0.7070707070707071,\n",
       " 'rouge2': 0.5154639175257733,\n",
       " 'rougeL': 0.42424242424242425,\n",
       " 'rougeLsum': 0.42424242424242425}"
      ]
     },
     "execution_count": 44,
     "metadata": {},
     "output_type": "execute_result"
    }
   ],
   "source": [
    "rouge.compute(predictions=[fineTunedSummary[0]['summary_text']], references=[sample_output])"
   ]
  },
  {
   "cell_type": "markdown",
   "metadata": {},
   "source": [
    "## Checking and comparing rogue scores of all models\n",
    "We can see below, the fine-tuned model is performing drastically better than all other models. This is because the model is now trained to summarize coversations which is not in the dataset used to train the pre-trained models"
   ]
  },
  {
   "cell_type": "markdown",
   "metadata": {},
   "source": [
    "## Generating random test dataset"
   ]
  },
  {
   "cell_type": "code",
   "execution_count": 45,
   "metadata": {},
   "outputs": [],
   "source": [
    "import random\n",
    "\n",
    "inputs = df['test']['dialogue']\n",
    "outputs = df['test']['summary']\n",
    "\n",
    "random_indices = random.sample(range(0, len(inputs) - 1), 250)\n",
    "slicedInputs = [inputs[index] for index in random_indices]\n",
    "referenceOutputs = [outputs[index] for index in random_indices]"
   ]
  },
  {
   "cell_type": "code",
   "execution_count": 46,
   "metadata": {},
   "outputs": [],
   "source": [
    "def summaryGenerator(model, modelInputs):\n",
    "    summaryGenerated = model(modelInputs)\n",
    "    return [ans['summary_text'] for ans in summaryGenerated]"
   ]
  },
  {
   "cell_type": "code",
   "execution_count": 50,
   "metadata": {},
   "outputs": [],
   "source": [
    "# FAIresults = summaryGenerator(FalconAIModel, slicedInputs)\n",
    "# googleT5 = summaryGenerator(t5Model, slicedInputs)\n",
    "# bartFB = summaryGenerator(bartModel, slicedInputs)\n",
    "# fineTunedResults = summaryGenerator(fineTunedSummarizer, slicedInputs)"
   ]
  },
  {
   "cell_type": "code",
   "execution_count": 48,
   "metadata": {},
   "outputs": [],
   "source": [
    "dfResults['FAIModel'] = rouge.compute(predictions=FAIresults, references=referenceOutputs)\n",
    "dfResults['googleT5'] = rouge.compute(predictions=googleT5, references=referenceOutputs)\n",
    "dfResults['bartFB'] = rouge.compute(predictions=bartFB, references=referenceOutputs)\n",
    "dfResults['fineTunedModel'] = rouge.compute(predictions=fineTunedResults, references=referenceOutputs)"
   ]
  },
  {
   "cell_type": "markdown",
   "metadata": {},
   "source": [
    "## Rouge scores of all models"
   ]
  },
  {
   "cell_type": "code",
   "execution_count": 49,
   "metadata": {
    "tags": []
   },
   "outputs": [
    {
     "name": "stdout",
     "output_type": "stream",
     "text": [
      "           FAIModel  googleT5    bartFB  fineTunedModel\n",
      "rouge1     0.293357  0.471516  0.300304        0.523027\n",
      "rouge2     0.085484  0.240905  0.106826        0.286219\n",
      "rougeL     0.222210  0.398962  0.226886        0.435865\n",
      "rougeLsum  0.222767  0.399145  0.226734        0.436695\n"
     ]
    }
   ],
   "source": [
    "print(dfResults)"
   ]
  }
 ],
 "metadata": {
  "kernelspec": {
   "display_name": "NLP",
   "language": "python",
   "name": "python3"
  },
  "language_info": {
   "codemirror_mode": {
    "name": "ipython",
    "version": 3
   },
   "file_extension": ".py",
   "mimetype": "text/x-python",
   "name": "python",
   "nbconvert_exporter": "python",
   "pygments_lexer": "ipython3",
   "version": "3.12.1"
  }
 },
 "nbformat": 4,
 "nbformat_minor": 4
}
